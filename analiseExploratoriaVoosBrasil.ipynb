{
 "cells": [
  {
   "cell_type": "markdown",
   "metadata": {},
   "source": [
    "# Voos nos aeroportos brasileiros - Análise Exploratória dos dados"
   ]
  },
  {
   "cell_type": "code",
   "execution_count": 1,
   "metadata": {},
   "outputs": [],
   "source": [
    "#importando bibliotecas\n",
    "\n",
    "import pandas as pd\n",
    "import numpy as np\n",
    "import matplotlib.pyplot as plt\n",
    "import datetime as dt\n",
    "\n",
    "%matplotlib inline"
   ]
  },
  {
   "cell_type": "code",
   "execution_count": 4,
   "metadata": {},
   "outputs": [],
   "source": [
    "#lendo arquivo csv e importando o dataframe para análise\n",
    "\n",
    "file = '/Users/Lucas/Documents/Lucas/jornadaDS/projetos/datasets/voosbrasil/brflights.csv'\n",
    "df = pd.read_csv(file, sep = ',', header = 0, encoding = 'unicode_escape')"
   ]
  },
  {
   "cell_type": "markdown",
   "metadata": {},
   "source": [
    "#### A partir  do dataset, as seguintes análises serão realizadas:\n",
    "\n",
    "1. Aeroporto com mais partidas;\n",
    "2. Estado com mais partidas;\n",
    "3. Destino brasileiro mais visitado;\n",
    "4. Destino Internacional mais visitados por voos saídos do Brasil;\n",
    "5. Período de maior partidas;\n",
    "6. Período de maior número de voos internacionais;\n",
    "7. Viagens as regiões do Brasil (da perspectiva de cada região);\n",
    "8. Cia aérea mais operante;\n",
    "9. Cia aérea mais pontual;\n",
    "10. Cia aérea com mais atrasos;\n",
    "11. De que origem internacional recebemos mais voos;\n",
    "12. Rotas mais comuns;"
   ]
  },
  {
   "cell_type": "code",
   "execution_count": null,
   "metadata": {},
   "outputs": [],
   "source": [
    "df.shape"
   ]
  },
  {
   "cell_type": "code",
   "execution_count": null,
   "metadata": {},
   "outputs": [],
   "source": [
    "df.head()"
   ]
  },
  {
   "cell_type": "code",
   "execution_count": null,
   "metadata": {},
   "outputs": [],
   "source": [
    "df.tail()"
   ]
  },
  {
   "cell_type": "code",
   "execution_count": null,
   "metadata": {},
   "outputs": [],
   "source": [
    "df.sample(5)"
   ]
  },
  {
   "cell_type": "code",
   "execution_count": null,
   "metadata": {},
   "outputs": [],
   "source": [
    "df.isnull().sum()"
   ]
  },
  {
   "cell_type": "code",
   "execution_count": null,
   "metadata": {},
   "outputs": [],
   "source": [
    "df.info()"
   ]
  },
  {
   "cell_type": "markdown",
   "metadata": {},
   "source": [
    "#### Observações sobre o dataset:\n",
    "\n",
    "- Mesma quantidade de missing values para as colunas de Partida.Real e Chegada.Real;\n",
    "- Verificar a elevada quantidade de missing values para a coluna Codigo.Justificativa;\n",
    "- As colunas LongDest, LatDest, LongOrig e LatOrig podem ser excluídas sem nenhum prejuízo pois, não serão utilizadas para análise;\n",
    "\n",
    "#### ----------------------------------------------------------------------------------------------------------------------------------------------------------------------------------------"
   ]
  },
  {
   "cell_type": "markdown",
   "metadata": {},
   "source": [
    "### Investigando os Missing Values\n",
    "\n",
    "Temos 289196 missing values na coluna Partida.Real, 289196 missing values na coluna Chegada.Real e 1510212 missing values na coluna Codigo.Justificativa.\n",
    "\n",
    "#### - Começarei investigando os MVs das colunas Partida.Real e Chegada.Real"
   ]
  },
  {
   "cell_type": "code",
   "execution_count": null,
   "metadata": {},
   "outputs": [],
   "source": [
    "#nomeei de inv_na um novo dataframe para os dados que possuam os valores nulos para as colunas Partida.Real e Chegada.Real.\n",
    "\n",
    "inv_na_df = df[df['Partida.Real'].isnull() & df['Chegada.Real'].isnull()]"
   ]
  },
  {
   "cell_type": "code",
   "execution_count": null,
   "metadata": {},
   "outputs": [],
   "source": [
    "inv_na_df.shape"
   ]
  },
  {
   "cell_type": "code",
   "execution_count": null,
   "metadata": {},
   "outputs": [],
   "source": [
    "inv_na_df.head()"
   ]
  },
  {
   "cell_type": "code",
   "execution_count": null,
   "metadata": {},
   "outputs": [],
   "source": [
    "inv_na_df.tail()"
   ]
  },
  {
   "cell_type": "code",
   "execution_count": null,
   "metadata": {},
   "outputs": [],
   "source": [
    "pd.value_counts(inv_na_df['Situacao.Voo'])"
   ]
  },
  {
   "cell_type": "markdown",
   "metadata": {},
   "source": [
    "-------------------------------------------------------------------------------------------------------------------------------\n",
    "\n",
    "Até aqui, percebe-se que os valores nulos para as colunas Partida.Real e Chegada.Real são referentes a voos cancelados. Dessa forma, não houve embarque e, nem muito menos, decolagem desses voos. Por essa razão possuem valores vazios.\n",
    "\n",
    "-------------------------------------------------------------------------------------------------------------------------------"
   ]
  },
  {
   "cell_type": "markdown",
   "metadata": {},
   "source": [
    "#### - Investigando agora, os MVs da coluna Codigo.Justificativa"
   ]
  },
  {
   "cell_type": "code",
   "execution_count": null,
   "metadata": {},
   "outputs": [],
   "source": [
    "#nomeei de cjna_df o novo dataframe no qual os dados para a coluna Codigo.Justificativa são não nulos.\n",
    "\n",
    "cjna_df = df[df['Codigo.Justificativa'].isnull()]"
   ]
  },
  {
   "cell_type": "code",
   "execution_count": null,
   "metadata": {},
   "outputs": [],
   "source": [
    "cjna_df.shape"
   ]
  },
  {
   "cell_type": "code",
   "execution_count": null,
   "metadata": {},
   "outputs": [],
   "source": [
    "cjna_df.head()"
   ]
  },
  {
   "cell_type": "code",
   "execution_count": null,
   "metadata": {},
   "outputs": [],
   "source": [
    "cjna_df.tail()"
   ]
  },
  {
   "cell_type": "code",
   "execution_count": null,
   "metadata": {},
   "outputs": [],
   "source": [
    "pd.value_counts(cjna_df['Situacao.Voo'])"
   ]
  },
  {
   "cell_type": "markdown",
   "metadata": {},
   "source": [
    "-------------------------------------------------------------------------------------------------------------------------------\n",
    "\n",
    "Observa-se que no dataframe cjna_df possui dados apenas dos voos que foram realizados e que na coluna Codigo.Justificativa possuem valores nulos.\n",
    "\n",
    "-------------------------------------------------------------------------------------------------------------------------------"
   ]
  },
  {
   "cell_type": "code",
   "execution_count": null,
   "metadata": {},
   "outputs": [],
   "source": [
    "#nomeei de ontime_cjna_df o dataframe que possui dados nos quais possuem valores nulos para a coluna Codigo.Justificativa \n",
    "#e os valores para as colunas Partida.Prevista e Partida.Real são iguais.\n",
    "\n",
    "ontime_cjna_df = cjna_df[cjna_df['Partida.Prevista'] == cjna_df['Partida.Real']]"
   ]
  },
  {
   "cell_type": "code",
   "execution_count": null,
   "metadata": {},
   "outputs": [],
   "source": [
    "ontime_cjna_df.head()"
   ]
  },
  {
   "cell_type": "code",
   "execution_count": null,
   "metadata": {},
   "outputs": [],
   "source": [
    "ontime_cjna_df.shape"
   ]
  },
  {
   "cell_type": "markdown",
   "metadata": {},
   "source": [
    "-------------------------------------------------------------------------------------------------------------------------------\n",
    "\n",
    "Aqui concluiu-se que dos 1510212 voos realizados e que possuem valores nulos para a coluna Codigo.Justificativa, 1489678 saíram no horário previsto. Já 20534 voos foram realizados com algum atraso ou adiantamento, porém não foi justificado.\n",
    "\n",
    "-------------------------------------------------------------------------------------------------------------------------------"
   ]
  },
  {
   "cell_type": "markdown",
   "metadata": {},
   "source": [
    "#### - Conclusões estudo dos Missing Values\n",
    "\n",
    "- Os missing values para colunas Partida.Real e Chegada.Real foram de voos cancelados.\n",
    "- Dos 1510212 missing values da coluna Codigo.Justificativa, 1489678 foram de voos que saíram no horário previsto.\n",
    "- Enquanto 20534 foram de voos que saíram atrasados ou adiantados porém sem justificativa.\n",
    "\n",
    "#### ----------------------------------------------------------------------------------------------------------------------------------------------------------------------------------------"
   ]
  },
  {
   "cell_type": "markdown",
   "metadata": {},
   "source": [
    "### Excluindo colunas que não serão utilizadas nas análises\n",
    "\n",
    "##### Estarão sendo excluídas as seguintes colunas:\n",
    "- Voos;\n",
    "- LongDest; \n",
    "- LatDest;\n",
    "- LongOrig;\n",
    "- LatOrig "
   ]
  },
  {
   "cell_type": "code",
   "execution_count": null,
   "metadata": {},
   "outputs": [],
   "source": [
    "df.drop(['Voos', 'LongDest', 'LongOrig', 'LatDest', 'LatOrig'], axis = 1, inplace = True)"
   ]
  },
  {
   "cell_type": "code",
   "execution_count": null,
   "metadata": {},
   "outputs": [],
   "source": [
    "df.head()"
   ]
  },
  {
   "cell_type": "markdown",
   "metadata": {},
   "source": [
    "#### ----------------------------------------------------------------------------------------------------------------------------------------------------------------------------------------"
   ]
  },
  {
   "cell_type": "markdown",
   "metadata": {},
   "source": [
    "### Visualizações Gráficas"
   ]
  },
  {
   "cell_type": "markdown",
   "metadata": {},
   "source": [
    "#### 1. Aeroporto com mais partidas"
   ]
  },
  {
   "cell_type": "code",
   "execution_count": null,
   "metadata": {},
   "outputs": [],
   "source": [
    "aeroportos = df['Aeroporto.Origem'].value_counts().head(3).values\n",
    "aeroportos = aeroportos.tolist()\n",
    "aeroportos.reverse()\n",
    "\n",
    "ind = df['Aeroporto.Origem'].value_counts().head(3).index\n",
    "ind = ind.tolist()\n",
    "ind.reverse()\n",
    "\n",
    "fig, ax = plt.subplots(figsize = (10, 6))\n",
    "\n",
    "plt.barh(ind, aeroportos, alpha = 0.4, color = \"c\")\n",
    "\n",
    "for i in range(3):\n",
    "    ax.text(x = aeroportos[i] + 3000, y = ind[i], s = str(aeroportos[i]), fontsize = 10)\n",
    "    \n",
    "plt.title(\"Aeroportos com maior número de decolagens do Brasil\", fontsize = 15)\n",
    "\n",
    "ax.spines['left'].set_linewidth(2.5)\n",
    "ax.set_xlabel('')\n",
    "for axis in ['top', 'right', 'bottom']:\n",
    "    ax.spines[axis].set_color(None)\n",
    "ax.tick_params(axis = 'x', labelbottom = False, bottom = None)\n",
    "\n",
    "plt.show()\n",
    "\n",
    "#tentar categorizar (nacional, regional, internacional) os voos por aeroporto\n",
    "\n"
   ]
  },
  {
   "cell_type": "code",
   "execution_count": null,
   "metadata": {},
   "outputs": [],
   "source": [
    "df['Aeroporto.Origem'].value_counts().head(3)"
   ]
  },
  {
   "cell_type": "code",
   "execution_count": null,
   "metadata": {},
   "outputs": [],
   "source": [
    "graf = df.groupby(['Aeroporto.Origem'])"
   ]
  },
  {
   "cell_type": "code",
   "execution_count": null,
   "metadata": {},
   "outputs": [],
   "source": [
    "guarulhos = graf['Codigo.Tipo.Linha'].value_counts().loc['Guarulhos - Governador Andre Franco Montoro']"
   ]
  },
  {
   "cell_type": "code",
   "execution_count": null,
   "metadata": {},
   "outputs": [],
   "source": [
    "guar_nac = guarulhos[0]\n",
    "guar_reg = guarulhos[2]\n",
    "guar_int = guarulhos[1]"
   ]
  },
  {
   "cell_type": "code",
   "execution_count": null,
   "metadata": {},
   "outputs": [],
   "source": [
    "jk = graf['Codigo.Tipo.Linha'].value_counts().loc['Presidente Juscelino Kubitschek']"
   ]
  },
  {
   "cell_type": "code",
   "execution_count": null,
   "metadata": {},
   "outputs": [],
   "source": [
    "jk_nac = jk[0]\n",
    "jk_reg = jk[1]\n",
    "jk_int = jk[2]"
   ]
  },
  {
   "cell_type": "code",
   "execution_count": null,
   "metadata": {},
   "outputs": [],
   "source": [
    "congonhas = graf['Codigo.Tipo.Linha'].value_counts().loc['Congonhas']"
   ]
  },
  {
   "cell_type": "code",
   "execution_count": null,
   "metadata": {},
   "outputs": [],
   "source": [
    "cong_nac = congonhas[0]\n",
    "cong_reg = congonhas[1]\n",
    "cong_int = 0"
   ]
  },
  {
   "cell_type": "code",
   "execution_count": null,
   "metadata": {},
   "outputs": [],
   "source": [
    "group = 3\n",
    "labels = ['Guarulhos', 'JK', 'Congonhas']\n",
    "\n",
    "nacional = [guar_nac, jk_nac, cong_nac] \n",
    "regional = [guar_reg, jk_reg, cong_reg]\n",
    "internacional = [guar_int, jk_int, cong_int] \n",
    "\n",
    "fig, ax = plt.subplots(figsize = (10, 6))\n",
    "ind = np.arange(group)\n",
    "width = 0.25\n",
    "\n",
    "plt.bar(ind - width, nacional, width = width, alpha = 0.4, color = 'g', label = 'Nacional')\n",
    "plt.bar(ind, regional, width = width, alpha = 0.4, color = 'r', label = 'Regional')\n",
    "plt.bar(ind + width, internacional, width = width, alpha = 0.4, color = 'b', label = 'Internacional')\n",
    "\n",
    "plt.xticks(ticks = ind, labels = labels, fontsize = 12)\n",
    "plt.legend()\n",
    "plt.title('Tipos de Voo que Ocorrem em cada Aeroporto', fontsize = 15)\n",
    "\n",
    "\n",
    "ax.spines['bottom'].set_linewidth(2.5)\n",
    "ax.set_ylabel('')\n",
    "for axis in ['top', 'right', 'left']:\n",
    "    ax.spines[axis].set_color(None)\n",
    "ax.tick_params(axis = 'y', labelleft = False, left = None)\n",
    "    \n",
    "    \n",
    "altura_nac = nacional\n",
    "altura_reg = regional\n",
    "altura_int = internacional\n",
    "posicao = ind\n",
    "for i in range(3):\n",
    "    ax.text(x = posicao[i] - 0.32, y = altura_nac[i] + 3000, s = str(altura_nac[i]), fontsize = 10)\n",
    "    ax.text(x = posicao[i] - 0.07, y = altura_reg[i] + 3000, s = str(altura_reg[i]), fontsize = 10)\n",
    "    ax.text(x = posicao[i] + 0.2, y = altura_int[i] + 3000, s = str(altura_int[i]), fontsize = 10)\n",
    "    \n",
    "plt.show()\n"
   ]
  },
  {
   "cell_type": "markdown",
   "metadata": {},
   "source": [
    "#### 2. Estado com maior número de partidas"
   ]
  },
  {
   "cell_type": "code",
   "execution_count": null,
   "metadata": {},
   "outputs": [],
   "source": [
    "estado = df['Estado.Origem'].value_counts().head().values\n",
    "ind = df['Estado.Origem'].value_counts().head().index\n",
    "\n",
    "index = np.arange(len(ind))\n",
    "width = 0.5\n",
    "\n",
    "fig, ax = plt.subplots(figsize = (10, 6))\n",
    "\n",
    "plt.bar(ind, estado, width=width, alpha = 0.5, color = 'red')\n",
    "\n",
    "plt.title('Número de Voos que partem por estado', fontsize = 15)\n",
    "plt.xlabel('Estados', fontsize = 12)\n",
    "\n",
    "ax.spines['bottom'].set_linewidth(2.5)\n",
    "ax.set_ylabel('')\n",
    "for axis in ['top', 'right', 'left']:\n",
    "    ax.spines[axis].set_color(None)\n",
    "ax.tick_params(axis = 'y', labelleft = False, left = None)\n",
    "\n",
    "for i in range(5):\n",
    "    ax.text(x = index[i] - 0.18, y = estado[i] + 10000, s = str(estado[i]), fontsize = 10)\n",
    "   \n",
    "\n",
    "plt.show()"
   ]
  },
  {
   "cell_type": "markdown",
   "metadata": {},
   "source": [
    "OBS: Nesse gráfico, o N/I representa os destinos internacionais, ou seja, todos os voos que partem de um destino internacional para o Brasil."
   ]
  },
  {
   "cell_type": "markdown",
   "metadata": {},
   "source": [
    "#### 3. Destino brasileiro mais visitado"
   ]
  },
  {
   "cell_type": "code",
   "execution_count": null,
   "metadata": {},
   "outputs": [],
   "source": [
    "def alterar_cidade(cidade):\n",
    "    if cidade == 'Guarulhos':\n",
    "        return 'Sao Paulo'\n",
    "    elif cidade == 'Confins':\n",
    "        return 'Belo Horizonte'\n",
    "    elif cidade == 'Sao Jose Dos Pinhais':\n",
    "        return 'Curitiba'\n",
    "    return cidade"
   ]
  },
  {
   "cell_type": "code",
   "execution_count": null,
   "metadata": {},
   "outputs": [],
   "source": [
    "df['Cidade.Destino'] = df['Cidade.Destino'].map(alterar_cidade)"
   ]
  },
  {
   "cell_type": "code",
   "execution_count": null,
   "metadata": {},
   "outputs": [],
   "source": [
    "df['Cidade.Destino'].value_counts().head(10)"
   ]
  },
  {
   "cell_type": "code",
   "execution_count": null,
   "metadata": {},
   "outputs": [],
   "source": [
    "cidade = df['Cidade.Destino'].value_counts().head().values\n",
    "ind = df['Cidade.Destino'].value_counts().head().index\n",
    "\n",
    "index = np.arange(len(ind))\n",
    "width = 0.4\n",
    "\n",
    "fig, ax = plt.subplots(figsize = (10, 6))\n",
    "plt.bar(ind, cidade, width=width, alpha = 0.6, color = 'g')\n",
    "\n",
    "plt.xlabel('Cidades brasileiras mais Visitadas', fontsize = 12)\n",
    "plt.title('Cidades que mais recebem voos no Brasil', fontsize = 15)\n",
    "\n",
    "ax.spines['bottom'].set_linewidth(2.5)\n",
    "ax.set_ylabel = ''\n",
    "for axis in ['top', 'right', 'left']:\n",
    "    ax.spines[axis].set_color(None)\n",
    "ax.tick_params(axis = 'y', labelleft = False, left = None)\n",
    "\n",
    "for i in range(5):\n",
    "    ax.text(x = index[i] - 0.15, y = cidade[i] + 8000, s = str(cidade[i]), fontsize = 10)\n",
    "\n",
    "plt.show()\n",
    "\n",
    "#ajeitar os nomes dos aeroportos e somar com as respectivas cidades"
   ]
  },
  {
   "cell_type": "markdown",
   "metadata": {},
   "source": [
    "#### 4. Destino Internacional mais visitados por brasileiros"
   ]
  },
  {
   "cell_type": "code",
   "execution_count": null,
   "metadata": {},
   "outputs": [],
   "source": [
    "internacional_df = df[df['Codigo.Tipo.Linha'] == 'Internacional']"
   ]
  },
  {
   "cell_type": "code",
   "execution_count": null,
   "metadata": {},
   "outputs": [],
   "source": [
    "internacional_df.head()"
   ]
  },
  {
   "cell_type": "code",
   "execution_count": null,
   "metadata": {},
   "outputs": [],
   "source": [
    "saida_inter_df = internacional_df[internacional_df['Estado.Destino'] == 'N/I']"
   ]
  },
  {
   "cell_type": "code",
   "execution_count": null,
   "metadata": {},
   "outputs": [],
   "source": [
    "saida_inter_df.head()"
   ]
  },
  {
   "cell_type": "code",
   "execution_count": null,
   "metadata": {},
   "outputs": [],
   "source": [
    "saida_inter_df['Cidade.Destino'].value_counts().head(10)"
   ]
  },
  {
   "cell_type": "code",
   "execution_count": null,
   "metadata": {},
   "outputs": [],
   "source": [
    "def alter_cidade_inter(cidade):\n",
    "    if cidade == 'Buenos Aires/Aeroparque':\n",
    "        return 'Buenos Aires'\n",
    "    return cidade"
   ]
  },
  {
   "cell_type": "code",
   "execution_count": null,
   "metadata": {},
   "outputs": [],
   "source": [
    "saida_inter_df['Cidade.Destino'] = saida_inter_df['Cidade.Destino'].map(alter_cidade_inter)"
   ]
  },
  {
   "cell_type": "code",
   "execution_count": null,
   "metadata": {},
   "outputs": [],
   "source": [
    "saida_inter_df['Cidade.Destino'].value_counts().head(10)"
   ]
  },
  {
   "cell_type": "code",
   "execution_count": null,
   "metadata": {},
   "outputs": [],
   "source": [
    "cidade_inter = saida_inter_df['Cidade.Destino'].value_counts().head().values\n",
    "cidade_inter = cidade_inter.tolist()\n",
    "cidade_inter.reverse()\n",
    "\n",
    "ind = saida_inter_df['Cidade.Destino'].value_counts().head().index\n",
    "ind = ind.tolist()\n",
    "ind.reverse()\n",
    "\n",
    "index = np.arange(len(cidade_inter))\n",
    "\n",
    "fig, ax = plt.subplots(figsize = (10, 6))\n",
    "plt.barh(ind, cidade_inter, alpha = 0.8, color = 'y')\n",
    "\n",
    "plt.title('Cidades Internacionais que mais Recebem Voos do Brasil', fontsize = 15)\n",
    "\n",
    "ax.spines['left'].set_linewidth(2.5)\n",
    "for axis in ['top', 'bottom', 'right']:\n",
    "    ax.spines[axis].set_color(None)\n",
    "ax.tick_params(axis = 'x', labelbottom = False, bottom = None)\n",
    "\n",
    "for i in range(5):\n",
    "    ax.text(x = cidade_inter[i] + 300, y = index[i] - 0.08, s = str(cidade_inter[i]), fontsize = 10)\n",
    "\n",
    "plt.show()"
   ]
  },
  {
   "cell_type": "code",
   "execution_count": null,
   "metadata": {},
   "outputs": [],
   "source": [
    "saida_inter_df['Pais.Destino'].value_counts().head(10)"
   ]
  },
  {
   "cell_type": "code",
   "execution_count": null,
   "metadata": {},
   "outputs": [],
   "source": [
    "pais_destino_inter = saida_inter_df['Pais.Destino'].value_counts().head().values\n",
    "pais_destino_inter = pais_destino_inter.tolist()\n",
    "pais_destino_inter.reverse()\n",
    "\n",
    "ind = saida_inter_df['Pais.Destino'].value_counts().head().index\n",
    "ind = ind.tolist()\n",
    "ind.reverse()\n",
    "\n",
    "index = np.arange(len(pais_destino_inter))\n",
    "\n",
    "fig, ax = plt.subplots(figsize = (10, 6))\n",
    "plt.barh(ind, pais_destino_inter, alpha = 0.8, color = 'm')\n",
    "\n",
    "plt.title('Países que mais recebem voos do Brasil', fontsize = 15)\n",
    "\n",
    "ax.spines['left'].set_linewidth(2.5)\n",
    "for axis in ['top', 'right', 'bottom']:\n",
    "    ax.spines[axis].set_color(None)\n",
    "ax.tick_params(axis = 'x', labelbottom = False, bottom = None)\n",
    "\n",
    "for i in range(5):\n",
    "    ax.text(x = pais_destino_inter[i] + 300, y = index[i] - 0.08, s = str(pais_destino_inter[i]), fontsize = 10)\n",
    "    \n",
    "plt.show()"
   ]
  },
  {
   "cell_type": "markdown",
   "metadata": {},
   "source": [
    "#### 5. Período de maior partidas"
   ]
  },
  {
   "cell_type": "code",
   "execution_count": null,
   "metadata": {},
   "outputs": [],
   "source": [
    "#covertendo as strings das colunas de data e horário em tipos datetime\n",
    "\n",
    "df['Partida.Prevista'] = pd.to_datetime(df['Partida.Prevista']).dt.tz_localize(None)\n",
    "df['Partida.Real'] = pd.to_datetime(df['Partida.Real']).dt.tz_localize(None)\n",
    "df['Chegada.Prevista'] = pd.to_datetime(df['Chegada.Prevista']).dt.tz_localize(None)\n",
    "df['Chegada.Real'] = pd.to_datetime(df['Chegada.Real']).dt.tz_localize(None)\n",
    "\n",
    "#criando colunas de data\n",
    "df['Data.Partida.Real'] = pd.to_datetime(df['Partida.Real']).dt.date\n",
    "df['Data.Chegada.Real'] = pd.to_datetime(df['Chegada.Real']).dt.date\n",
    "\n",
    "df['Mes.Partida'] = pd.to_datetime(df['Data.Partida.Real']).dt.month\n",
    "df['Ano.Partida'] = pd.to_datetime(df['Data.Partida.Real']).dt.year"
   ]
  },
  {
   "cell_type": "code",
   "execution_count": null,
   "metadata": {},
   "outputs": [],
   "source": [
    "def nome_mes(mes):\n",
    "    if mes == 1:\n",
    "        return \"Janeiro\"\n",
    "    elif mes == 2:\n",
    "        return \"Fevereiro\"\n",
    "    elif mes == 3:\n",
    "        return \"Março\"\n",
    "    elif mes == 4:\n",
    "        return \"Abril\"\n",
    "    elif mes == 5:\n",
    "        return \"Maio\"\n",
    "    elif mes == 6:\n",
    "        return \"Junho\"\n",
    "    elif mes == 7:\n",
    "        return \"Julho\"\n",
    "    elif mes == 8:\n",
    "        return \"Agosto\"\n",
    "    elif mes == 9:\n",
    "        return \"Setembro\"\n",
    "    elif mes == 10:\n",
    "        return \"Outubro\"\n",
    "    elif mes == 11:\n",
    "        return \"Novembro\"\n",
    "    elif mes == 12:\n",
    "        return \"Dezembro\"\n",
    "    return mes"
   ]
  },
  {
   "cell_type": "code",
   "execution_count": null,
   "metadata": {},
   "outputs": [],
   "source": [
    "df['Mes.Partida'] = df['Mes.Partida'].fillna(0)\n",
    "df['Mes.Partida'] = df['Mes.Partida'].astype(int)\n",
    "df['Mes.Partida'] = df['Mes.Partida'].map(nome_mes)"
   ]
  },
  {
   "cell_type": "code",
   "execution_count": null,
   "metadata": {},
   "outputs": [],
   "source": [
    "df['Ano.Partida'] = df['Ano.Partida'].fillna(0)\n",
    "df['Ano.Partida'] = df['Ano.Partida'].astype(int)"
   ]
  },
  {
   "cell_type": "code",
   "execution_count": null,
   "metadata": {},
   "outputs": [],
   "source": [
    "df.dtypes"
   ]
  },
  {
   "cell_type": "code",
   "execution_count": null,
   "metadata": {},
   "outputs": [],
   "source": [
    "df['Dif.Tempo.Partida'] = (df['Partida.Real'] - df['Partida.Prevista'])\n",
    "df['Dif.Tempo.Chegada'] = (df['Chegada.Real'] - df['Chegada.Prevista'])"
   ]
  },
  {
   "cell_type": "code",
   "execution_count": null,
   "metadata": {
    "scrolled": true
   },
   "outputs": [],
   "source": [
    "df.head()"
   ]
  },
  {
   "cell_type": "code",
   "execution_count": null,
   "metadata": {},
   "outputs": [],
   "source": [
    "df['Mes.Partida'].value_counts()"
   ]
  },
  {
   "cell_type": "code",
   "execution_count": null,
   "metadata": {},
   "outputs": [],
   "source": [
    "voos_realizados_df = df[df['Mes.Partida'] != 0]"
   ]
  },
  {
   "cell_type": "code",
   "execution_count": null,
   "metadata": {},
   "outputs": [],
   "source": [
    "voos_realizados_df.isnull().sum()"
   ]
  },
  {
   "cell_type": "code",
   "execution_count": null,
   "metadata": {},
   "outputs": [],
   "source": [
    "voos_realizados_df['Ano.Partida'].value_counts()"
   ]
  },
  {
   "cell_type": "code",
   "execution_count": null,
   "metadata": {},
   "outputs": [],
   "source": [
    "voos_realizados_2015_df = voos_realizados_df[voos_realizados_df['Ano.Partida'] == 2015]\n",
    "voos_realizados_2016_df = voos_realizados_df[voos_realizados_df['Ano.Partida'] == 2016]\n",
    "voos_realizados_2017_df = voos_realizados_df[voos_realizados_df['Ano.Partida'] == 2017]"
   ]
  },
  {
   "cell_type": "code",
   "execution_count": null,
   "metadata": {},
   "outputs": [],
   "source": [
    "voos_realizados_2015_df['Mes.Partida'].value_counts()[voos_realizados_df['Mes.Partida'].unique()].index"
   ]
  },
  {
   "cell_type": "code",
   "execution_count": null,
   "metadata": {},
   "outputs": [],
   "source": [
    "voos_realizados_2016_df['Mes.Partida'].value_counts()[voos_realizados_df['Mes.Partida'].unique()].index"
   ]
  },
  {
   "cell_type": "code",
   "execution_count": null,
   "metadata": {},
   "outputs": [],
   "source": [
    "voos_realizados_2015_df['Mes.Partida'].value_counts()"
   ]
  },
  {
   "cell_type": "code",
   "execution_count": null,
   "metadata": {},
   "outputs": [],
   "source": [
    "voos_realizados_2016_df['Mes.Partida'].value_counts()"
   ]
  },
  {
   "cell_type": "code",
   "execution_count": null,
   "metadata": {},
   "outputs": [],
   "source": [
    "voos_realizados_2017_df['Mes.Partida'].value_counts()[voos_realizados_2017_df['Mes.Partida'].unique()].index"
   ]
  },
  {
   "cell_type": "code",
   "execution_count": null,
   "metadata": {},
   "outputs": [],
   "source": [
    "voos_realizados_2015_df['Mes.Partida'].value_counts().index"
   ]
  },
  {
   "cell_type": "code",
   "execution_count": null,
   "metadata": {},
   "outputs": [],
   "source": []
  }
 ],
 "metadata": {
  "kernelspec": {
   "display_name": "Python 3",
   "language": "python",
   "name": "python3"
  },
  "language_info": {
   "codemirror_mode": {
    "name": "ipython",
    "version": 3
   },
   "file_extension": ".py",
   "mimetype": "text/x-python",
   "name": "python",
   "nbconvert_exporter": "python",
   "pygments_lexer": "ipython3",
   "version": "3.7.6"
  }
 },
 "nbformat": 4,
 "nbformat_minor": 4
}
